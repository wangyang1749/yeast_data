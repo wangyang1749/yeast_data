{
 "cells": [
  {
   "cell_type": "code",
   "execution_count": 12,
   "metadata": {},
   "outputs": [
    {
     "name": "stdout",
     "output_type": "stream",
     "text": [
      "<_csv.reader object at 0x7f19dc356c10>\n"
     ]
    }
   ],
   "source": [
    "import csv\n",
    "with open(\"/root/yeast_data/data/RAN_seq/SraRunInfo.csv\") as f:\n",
    "    # python 读取csv\n",
    "    reader = csv.reader(f)\n",
    "    print(reader)"
   ]
  },
  {
   "cell_type": "code",
   "execution_count": 19,
   "metadata": {},
   "outputs": [
    {
     "name": "stdout",
     "output_type": "stream",
     "text": [
      "wget -O SRR1916152.sra https://sra-downloadb.be-md.ncbi.nlm.nih.gov/sos1/sra-pub-run-5/SRR1916152/SRR1916152.1\n",
      "wget -O SRR1916153.sra https://sra-downloadb.be-md.ncbi.nlm.nih.gov/sos1/sra-pub-run-5/SRR1916153/SRR1916153.1\n",
      "wget -O SRR1916154.sra https://sra-downloadb.be-md.ncbi.nlm.nih.gov/sos1/sra-pub-run-5/SRR1916154/SRR1916154.1\n",
      "wget -O SRR1916155.sra https://sra-downloadb.be-md.ncbi.nlm.nih.gov/sos1/sra-pub-run-5/SRR1916155/SRR1916155.1\n",
      "wget -O SRR1916156.sra https://sra-downloadb.be-md.ncbi.nlm.nih.gov/sos1/sra-pub-run-5/SRR1916156/SRR1916156.1\n"
     ]
    }
   ],
   "source": [
    "import pandas as pd\n",
    "df = pd.read_csv(\"/root/yeast_data/data/RAN_seq/SraRunInfo.csv\")\n",
    "for index,item in df.iterrows():\n",
    "    cmd_str = \"wget -O {0}.sra {1}\".format(item.Run,item.download_path)\n",
    "    print(cmd_str)"
   ]
  },
  {
   "cell_type": "code",
   "execution_count": null,
   "metadata": {},
   "outputs": [],
   "source": []
  },
  {
   "cell_type": "code",
   "execution_count": 22,
   "metadata": {},
   "outputs": [
    {
     "name": "stdout",
     "output_type": "stream",
     "text": [
      "fastq-dump SRR1916152.sra \n",
      "fastqc SRR1916152.fastq\n",
      "fastq-dump SRR1916153.sra \n",
      "fastqc SRR1916153.fastq\n",
      "fastq-dump SRR1916154.sra \n",
      "fastqc SRR1916154.fastq\n",
      "fastq-dump SRR1916155.sra \n",
      "fastqc SRR1916155.fastq\n",
      "fastq-dump SRR1916156.sra \n",
      "fastqc SRR1916156.fastq\n"
     ]
    }
   ],
   "source": [
    "for index,row in df.iterrows():\n",
    "    cmd_str = \"fastq-dump {0}.sra \\nfastqc {0}.fastq\".format(row[0])\n",
    "    print(cmd_str)"
   ]
  },
  {
   "cell_type": "markdown",
   "metadata": {},
   "source": [
    "### hisat2将reads比对到参考基因组"
   ]
  },
  {
   "cell_type": "code",
   "execution_count": 2,
   "metadata": {},
   "outputs": [
    {
     "name": "stdout",
     "output_type": "stream",
     "text": [
      "hisat2 -x ../../data/reference/yeast_ref -U ../../data/RAN_seq/SRR1916152.fastq | samtools view -bS - | samtools sort - -o EV_3.bam\n",
      "hisat2 -x ../../data/reference/yeast_ref -U ../../data/RAN_seq/SRR1916153.fastq | samtools view -bS - | samtools sort - -o EV_4.bam\n",
      "hisat2 -x ../../data/reference/yeast_ref -U ../../data/RAN_seq/SRR1916154.fastq | samtools view -bS - | samtools sort - -o DNMT3B_2.bam\n",
      "hisat2 -x ../../data/reference/yeast_ref -U ../../data/RAN_seq/SRR1916155.fastq | samtools view -bS - | samtools sort - -o DNMT3B_3.bam\n",
      "hisat2 -x ../../data/reference/yeast_ref -U ../../data/RAN_seq/SRR1916156.fastq | samtools view -bS - | samtools sort - -o DNMT3B_4.bam\n"
     ]
    }
   ],
   "source": [
    "with open(\"/root/yeast_data/data/RAN_seq/SraAccList.txt\") as acc_file_handle:\n",
    "    for line in acc_file_handle:\n",
    "        line = line.strip()                                                       \n",
    "        line = line.split(\"\\t\")\n",
    "        cmd_str=\"hisat2 -x ../../data/reference/yeast_ref -U ../../data/RAN_seq/{0}.fastq | samtools view -bS - | samtools sort - -o {1}.bam\".format(line[0],line[1])\n",
    "        #cmd_str+=\"\\nsamtools index {1}.bam\n",
    "        print(cmd_str)"
   ]
  },
  {
   "cell_type": "markdown",
   "metadata": {},
   "source": [
    "### read count\n"
   ]
  },
  {
   "cell_type": "code",
   "execution_count": 4,
   "metadata": {},
   "outputs": [
    {
     "name": "stdout",
     "output_type": "stream",
     "text": [
      "htseq-count -f bam -r pos ../read_aln/EV_3.bam ../../data/reference/Saccharomyces_cerevisiae.R64-1-1.48.gtf > EV_3.count.tab\n",
      "htseq-count -f bam -r pos ../read_aln/EV_4.bam ../../data/reference/Saccharomyces_cerevisiae.R64-1-1.48.gtf > EV_4.count.tab\n",
      "htseq-count -f bam -r pos ../read_aln/DNMT3B_2.bam ../../data/reference/Saccharomyces_cerevisiae.R64-1-1.48.gtf > DNMT3B_2.count.tab\n",
      "htseq-count -f bam -r pos ../read_aln/DNMT3B_3.bam ../../data/reference/Saccharomyces_cerevisiae.R64-1-1.48.gtf > DNMT3B_3.count.tab\n",
      "htseq-count -f bam -r pos ../read_aln/DNMT3B_4.bam ../../data/reference/Saccharomyces_cerevisiae.R64-1-1.48.gtf > DNMT3B_4.count.tab\n"
     ]
    }
   ],
   "source": [
    "with open(\"/root/yeast_data/data/RAN_seq/SraAccList.txt\") as acc_file_handle:\n",
    "    for line in acc_file_handle:\n",
    "        line = line.strip()                                                       \n",
    "        line = line.split(\"\\t\")\n",
    "        cmd_str=\"htseq-count -f bam -r pos ../read_aln/{1}.bam ../../data/reference/Saccharomyces_cerevisiae.R64-1-1.48.gtf > {1}.count.tab\".format(line[0],line[1])\n",
    "        #cmd_str+=\"\\nsamtools index {1}.bam\n",
    "        \n",
    "        print(cmd_str)\n",
    "\n"
   ]
  },
  {
   "cell_type": "code",
   "execution_count": 5,
   "metadata": {},
   "outputs": [
    {
     "name": "stdout",
     "output_type": "stream",
     "text": [
      "['DNMT3B_2.count.tab', 'EV_3.count.tab', 'DNMT3B_3.count.tab', 'DNMT3B_4.count.tab', 'EV_4.count.tab']\n",
      "gene_id\tDNMT3B_2\tEV_3\tDNMT3B_3\tDNMT3B_4\tEV_4\n",
      "ETS1-1\t8\t14\t4\t7\t8\n",
      "ETS1-2\t0\t0\t0\t0\t0\n",
      "ETS2-1\t0\t0\t0\t1\t0\n",
      "ETS2-2\t0\t0\t0\t0\t0\n",
      "HRA1\t19\t71\t24\t14\t30\n",
      "ICR1\t203\t142\t210\t188\t159\n",
      "IRT1\t618\t387\t555\t491\t260\n",
      "ITS1-1\t7\t17\t4\t6\t\n"
     ]
    }
   ],
   "source": [
    "import os\n",
    "base_dir = \"/root/yeast_data/analysis/htseq-count\"\n",
    "dir_list = os.listdir(base_dir)\n",
    "file_name_list = []\n",
    "for i in dir_list:\n",
    "    if os.path.splitext(i)[1] == '.tab':\n",
    "        file_name_list.append(i)\n",
    "\n",
    "print(file_name_list)\n",
    "count_dict = {}\n",
    "for file_name in file_name_list:\n",
    "    with open(base_dir+\"/\"+file_name) as f:\n",
    "        for line in f:\n",
    "            if line.startswith(\"__\"):\n",
    "                continue\n",
    "            line = line.rstrip(\"\\n\")\n",
    "            ele = line.split()\n",
    "            if ele[0] in count_dict.keys():\n",
    "                count_dict.get(ele[0]).append(ele[1])\n",
    "            else:\n",
    "                count_dict[ele[0]]=[ele[1]]\n",
    "# print(count_dict)\n",
    "result_str=\"\"\n",
    "#print(\"gene_id\\t\" + \"\\t\".join([x[:-10] for x in file_name_list]))\n",
    "result_str +=\"gene_id\\t\" + \"\\t\".join([x[:-10] for x in file_name_list])+\"\\n\"\n",
    "for gene_id in count_dict:\n",
    "    #print(gene_id+\"\\t\"+\"\\t\".join(count_dict[gene_id]))\n",
    "    result_str+= gene_id+\"\\t\"+\"\\t\".join(count_dict[gene_id])+\"\\n\"\n",
    "\n",
    "print(result_str[:200])\n",
    "with open(base_dir+\"/result.txt\",\"w\") as f:\n",
    "    f.write(result_str)"
   ]
  },
  {
   "cell_type": "code",
   "execution_count": null,
   "metadata": {},
   "outputs": [],
   "source": []
  }
 ],
 "metadata": {
  "kernelspec": {
   "display_name": "Python 3",
   "language": "python",
   "name": "python3"
  },
  "language_info": {
   "codemirror_mode": {
    "name": "ipython",
    "version": 3
   },
   "file_extension": ".py",
   "mimetype": "text/x-python",
   "name": "python",
   "nbconvert_exporter": "python",
   "pygments_lexer": "ipython3",
   "version": "3.8.3"
  }
 },
 "nbformat": 4,
 "nbformat_minor": 4
}
