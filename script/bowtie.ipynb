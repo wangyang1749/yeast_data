{
 "cells": [
  {
   "cell_type": "code",
   "execution_count": 1,
   "metadata": {},
   "outputs": [
    {
     "name": "stdout",
     "output_type": "stream",
     "text": [
      "wget -O SRR1916152.sra https://sra-downloadb.be-md.ncbi.nlm.nih.gov/sos1/sra-pub-run-5/SRR1916152/SRR1916152.1\n",
      "wget -O SRR1916153.sra https://sra-downloadb.be-md.ncbi.nlm.nih.gov/sos1/sra-pub-run-5/SRR1916153/SRR1916153.1\n",
      "wget -O SRR1916154.sra https://sra-downloadb.be-md.ncbi.nlm.nih.gov/sos1/sra-pub-run-5/SRR1916154/SRR1916154.1\n",
      "wget -O SRR1916155.sra https://sra-downloadb.be-md.ncbi.nlm.nih.gov/sos1/sra-pub-run-5/SRR1916155/SRR1916155.1\n",
      "wget -O SRR1916156.sra https://sra-downloadb.be-md.ncbi.nlm.nih.gov/sos1/sra-pub-run-5/SRR1916156/SRR1916156.1\n"
     ]
    }
   ],
   "source": [
    "import pandas as pd\n",
    "df = pd.read_csv(\"/root/yeast_data/data/RAN_seq/SraRunInfo.csv\")\n",
    "for index,item in df.iterrows():\n",
    "    cmd_str = \"tophat  -p 16 -G ../data/reference/Saccharomyces_cerevisiae.R64-1-1.48.gtf  -o EV_B  ../data/reference/genome ../data/RAN_seq/SRR1916153.fastq\".format(item.Run,item.download_path)\n",
    "    print(cmd_str)"
   ]
  },
  {
   "cell_type": "code",
   "execution_count": 2,
   "metadata": {},
   "outputs": [
    {
     "name": "stdout",
     "output_type": "stream",
     "text": [
      "tophat  -p 16 -G ../data/reference/Saccharomyces_cerevisiae.R64-1-1.48.gtf  -o EV_3  ../data/reference/genome ../data/RAN_seq/SRR1916152.fastq\n",
      "tophat  -p 16 -G ../data/reference/Saccharomyces_cerevisiae.R64-1-1.48.gtf  -o EV_4  ../data/reference/genome ../data/RAN_seq/SRR1916153.fastq\n",
      "tophat  -p 16 -G ../data/reference/Saccharomyces_cerevisiae.R64-1-1.48.gtf  -o DNMT3B_2  ../data/reference/genome ../data/RAN_seq/SRR1916154.fastq\n",
      "tophat  -p 16 -G ../data/reference/Saccharomyces_cerevisiae.R64-1-1.48.gtf  -o DNMT3B_3  ../data/reference/genome ../data/RAN_seq/SRR1916155.fastq\n",
      "tophat  -p 16 -G ../data/reference/Saccharomyces_cerevisiae.R64-1-1.48.gtf  -o DNMT3B_4  ../data/reference/genome ../data/RAN_seq/SRR1916156.fastq\n"
     ]
    }
   ],
   "source": [
    "with open(\"/root/yeast_data/data/RAN_seq/SraAccList.txt\") as acc_file_handle:\n",
    "    for line in acc_file_handle:\n",
    "        line = line.strip()                                                       \n",
    "        line = line.split(\"\\t\")\n",
    "        cmd_str=\"tophat  -p 16 -G ../data/reference/Saccharomyces_cerevisiae.R64-1-1.48.gtf  -o {1}  ../data/reference/genome ../data/RAN_seq/{0}.fastq\".format(line[0],line[1])\n",
    "        #cmd_str+=\"\\nsamtools index {1}.bam\n",
    "        print(cmd_str)"
   ]
  },
  {
   "cell_type": "code",
   "execution_count": 6,
   "metadata": {},
   "outputs": [
    {
     "name": "stdout",
     "output_type": "stream",
     "text": [
      "cufflinks -p 8 -u -o EV_3_count EV_3/accepted_hits.bam\n",
      "cufflinks -p 8 -u -o EV_4_count EV_4/accepted_hits.bam\n",
      "cufflinks -p 8 -u -o DNMT3B_2_count DNMT3B_2/accepted_hits.bam\n",
      "cufflinks -p 8 -u -o DNMT3B_3_count DNMT3B_3/accepted_hits.bam\n",
      "cufflinks -p 8 -u -o DNMT3B_4_count DNMT3B_4/accepted_hits.bam\n"
     ]
    }
   ],
   "source": [
    "with open(\"/root/yeast_data/data/RAN_seq/SraAccList.txt\") as acc_file_handle:\n",
    "    for line in acc_file_handle:\n",
    "        line = line.strip()                                                       \n",
    "        line = line.split(\"\\t\")\n",
    "        cmd_str=\"cufflinks -p 8 -u -o {1}_count {1}/accepted_hits.bam\".format(line[0],line[1])\n",
    "        #cmd_str+=\"\\nsamtools index {1}.bam\n",
    "        print(cmd_str)"
   ]
  },
  {
   "cell_type": "code",
   "execution_count": 9,
   "metadata": {},
   "outputs": [
    {
     "name": "stdout",
     "output_type": "stream",
     "text": [
      "./EV_3_count/transcripts.gtf\n",
      "./EV_4_count/transcripts.gtf\n",
      "./DNMT3B_2_count/transcripts.gtf\n",
      "./DNMT3B_3_count/transcripts.gtf\n",
      "./DNMT3B_4_count/transcripts.gtf\n"
     ]
    }
   ],
   "source": [
    "with open(\"/root/yeast_data/data/RAN_seq/SraAccList.txt\") as acc_file_handle:\n",
    "    for line in acc_file_handle:\n",
    "        line = line.strip()                                                       \n",
    "        line = line.split(\"\\t\")\n",
    "        cmd_str=\"./{1}_count/transcripts.gtf\".format(line[0],line[1])\n",
    "        #cmd_str+=\"\\nsamtools index {1}.bam\n",
    "        print(cmd_str)"
   ]
  },
  {
   "cell_type": "code",
   "execution_count": null,
   "metadata": {},
   "outputs": [],
   "source": []
  }
 ],
 "metadata": {
  "kernelspec": {
   "display_name": "Python 3",
   "language": "python",
   "name": "python3"
  },
  "language_info": {
   "codemirror_mode": {
    "name": "ipython",
    "version": 3
   },
   "file_extension": ".py",
   "mimetype": "text/x-python",
   "name": "python",
   "nbconvert_exporter": "python",
   "pygments_lexer": "ipython3",
   "version": "3.8.5"
  }
 },
 "nbformat": 4,
 "nbformat_minor": 4
}
