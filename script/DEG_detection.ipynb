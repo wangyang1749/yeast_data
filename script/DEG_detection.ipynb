{
 "cells": [
  {
   "cell_type": "markdown",
   "metadata": {},
   "source": [
    "### 鉴定差异表达基因"
   ]
  },
  {
   "cell_type": "code",
   "execution_count": 6,
   "metadata": {
    "collapsed": true,
    "jupyter": {
     "outputs_hidden": true
    }
   },
   "outputs": [
    {
     "data": {
      "text/html": [
       "'/root/yeast_data/analysis/htseq-count'"
      ],
      "text/latex": [
       "'/root/yeast\\_data/analysis/htseq-count'"
      ],
      "text/markdown": [
       "'/root/yeast_data/analysis/htseq-count'"
      ],
      "text/plain": [
       "[1] \"/root/yeast_data/analysis/htseq-count\""
      ]
     },
     "metadata": {},
     "output_type": "display_data"
    },
    {
     "data": {
      "text/html": [
       "<style>\n",
       ".list-inline {list-style: none; margin:0; padding: 0}\n",
       ".list-inline>li {display: inline-block}\n",
       ".list-inline>li:not(:last-child)::after {content: \"\\00b7\"; padding: 0 .5ex}\n",
       "</style>\n",
       "<ol class=list-inline><li>'cmd_htseq_count.sh'</li><li>'DNMT3B_2.count.tab'</li><li>'DNMT3B_3.count.tab'</li><li>'DNMT3B_4.count.tab'</li><li>'EV_3.count.tab'</li><li>'EV_4.count.tab'</li><li>'nohup.out'</li><li>'result.txt'</li><li>'SraAccList.txt'</li><li>'yeast_DESeq2_PCA.pdf'</li></ol>\n"
      ],
      "text/latex": [
       "\\begin{enumerate*}\n",
       "\\item 'cmd\\_htseq\\_count.sh'\n",
       "\\item 'DNMT3B\\_2.count.tab'\n",
       "\\item 'DNMT3B\\_3.count.tab'\n",
       "\\item 'DNMT3B\\_4.count.tab'\n",
       "\\item 'EV\\_3.count.tab'\n",
       "\\item 'EV\\_4.count.tab'\n",
       "\\item 'nohup.out'\n",
       "\\item 'result.txt'\n",
       "\\item 'SraAccList.txt'\n",
       "\\item 'yeast\\_DESeq2\\_PCA.pdf'\n",
       "\\end{enumerate*}\n"
      ],
      "text/markdown": [
       "1. 'cmd_htseq_count.sh'\n",
       "2. 'DNMT3B_2.count.tab'\n",
       "3. 'DNMT3B_3.count.tab'\n",
       "4. 'DNMT3B_4.count.tab'\n",
       "5. 'EV_3.count.tab'\n",
       "6. 'EV_4.count.tab'\n",
       "7. 'nohup.out'\n",
       "8. 'result.txt'\n",
       "9. 'SraAccList.txt'\n",
       "10. 'yeast_DESeq2_PCA.pdf'\n",
       "\n",
       "\n"
      ],
      "text/plain": [
       " [1] \"cmd_htseq_count.sh\"   \"DNMT3B_2.count.tab\"   \"DNMT3B_3.count.tab\"  \n",
       " [4] \"DNMT3B_4.count.tab\"   \"EV_3.count.tab\"       \"EV_4.count.tab\"      \n",
       " [7] \"nohup.out\"            \"result.txt\"           \"SraAccList.txt\"      \n",
       "[10] \"yeast_DESeq2_PCA.pdf\""
      ]
     },
     "metadata": {},
     "output_type": "display_data"
    },
    {
     "data": {
      "text/html": [
       "<table>\n",
       "<caption>A data.frame: 7127 × 5</caption>\n",
       "<thead>\n",
       "\t<tr><th></th><th scope=col>DNMT3B_2</th><th scope=col>EV_3</th><th scope=col>DNMT3B_3</th><th scope=col>DNMT3B_4</th><th scope=col>EV_4</th></tr>\n",
       "\t<tr><th></th><th scope=col>&lt;int&gt;</th><th scope=col>&lt;int&gt;</th><th scope=col>&lt;int&gt;</th><th scope=col>&lt;int&gt;</th><th scope=col>&lt;int&gt;</th></tr>\n",
       "</thead>\n",
       "<tbody>\n",
       "\t<tr><th scope=row>ETS1-1</th><td>  8</td><td> 14</td><td>  4</td><td>  7</td><td>  8</td></tr>\n",
       "\t<tr><th scope=row>ETS1-2</th><td>  0</td><td>  0</td><td>  0</td><td>  0</td><td>  0</td></tr>\n",
       "\t<tr><th scope=row>ETS2-1</th><td>  0</td><td>  0</td><td>  0</td><td>  1</td><td>  0</td></tr>\n",
       "\t<tr><th scope=row>ETS2-2</th><td>  0</td><td>  0</td><td>  0</td><td>  0</td><td>  0</td></tr>\n",
       "\t<tr><th scope=row>HRA1</th><td> 19</td><td> 71</td><td> 24</td><td> 14</td><td> 30</td></tr>\n",
       "\t<tr><th scope=row>ICR1</th><td>203</td><td>142</td><td>210</td><td>188</td><td>159</td></tr>\n",
       "\t<tr><th scope=row>IRT1</th><td>618</td><td>387</td><td>555</td><td>491</td><td>260</td></tr>\n",
       "\t<tr><th scope=row>ITS1-1</th><td>  7</td><td> 17</td><td>  4</td><td>  6</td><td> 15</td></tr>\n",
       "\t<tr><th scope=row>ITS1-2</th><td>  1</td><td>  0</td><td>  0</td><td>  0</td><td>  0</td></tr>\n",
       "\t<tr><th scope=row>ITS2-1</th><td>  4</td><td>  9</td><td>  2</td><td>  5</td><td>  2</td></tr>\n",
       "\t<tr><th scope=row>ITS2-2</th><td>  0</td><td>  0</td><td>  0</td><td>  0</td><td>  0</td></tr>\n",
       "\t<tr><th scope=row>LSR1</th><td>822</td><td>466</td><td>666</td><td>433</td><td>528</td></tr>\n",
       "\t<tr><th scope=row>NME1</th><td>207</td><td>193</td><td>243</td><td>176</td><td>222</td></tr>\n",
       "\t<tr><th scope=row>PWR1</th><td> 40</td><td> 28</td><td> 41</td><td> 34</td><td> 25</td></tr>\n",
       "\t<tr><th scope=row>Q0010</th><td>  0</td><td>  0</td><td>  0</td><td>  0</td><td>  0</td></tr>\n",
       "\t<tr><th scope=row>Q0017</th><td>  0</td><td>  0</td><td>  0</td><td>  0</td><td>  0</td></tr>\n",
       "\t<tr><th scope=row>Q0020</th><td> 27</td><td> 31</td><td> 43</td><td> 87</td><td> 17</td></tr>\n",
       "\t<tr><th scope=row>Q0032</th><td>  0</td><td>  0</td><td>  0</td><td>  0</td><td>  0</td></tr>\n",
       "\t<tr><th scope=row>Q0045</th><td> 71</td><td> 45</td><td> 63</td><td> 38</td><td> 39</td></tr>\n",
       "\t<tr><th scope=row>Q0050</th><td> 81</td><td> 54</td><td> 82</td><td> 54</td><td> 51</td></tr>\n",
       "\t<tr><th scope=row>Q0055</th><td> 56</td><td> 38</td><td> 57</td><td> 37</td><td> 43</td></tr>\n",
       "\t<tr><th scope=row>Q0060</th><td>  2</td><td>  1</td><td>  1</td><td>  1</td><td>  0</td></tr>\n",
       "\t<tr><th scope=row>Q0065</th><td>  1</td><td>  2</td><td>  2</td><td>  0</td><td>  1</td></tr>\n",
       "\t<tr><th scope=row>Q0070</th><td>  0</td><td>  0</td><td>  0</td><td>  0</td><td>  0</td></tr>\n",
       "\t<tr><th scope=row>Q0075</th><td>  1</td><td>  1</td><td>  1</td><td>  1</td><td>  1</td></tr>\n",
       "\t<tr><th scope=row>Q0080</th><td>  0</td><td>  0</td><td>  0</td><td>  0</td><td>  0</td></tr>\n",
       "\t<tr><th scope=row>Q0085</th><td>  8</td><td>  2</td><td>  8</td><td>  6</td><td>  2</td></tr>\n",
       "\t<tr><th scope=row>Q0092</th><td>  0</td><td>  0</td><td>  0</td><td>  0</td><td>  0</td></tr>\n",
       "\t<tr><th scope=row>Q0105</th><td> 15</td><td> 11</td><td> 10</td><td>  2</td><td>  7</td></tr>\n",
       "\t<tr><th scope=row>Q0110</th><td>  0</td><td>  0</td><td>  0</td><td>  1</td><td>  0</td></tr>\n",
       "\t<tr><th scope=row>⋮</th><td>⋮</td><td>⋮</td><td>⋮</td><td>⋮</td><td>⋮</td></tr>\n",
       "\t<tr><th scope=row>tV(AAC)K1</th><td>0</td><td> 0</td><td>0</td><td>0</td><td>0</td></tr>\n",
       "\t<tr><th scope=row>tV(AAC)K2</th><td>0</td><td> 0</td><td>0</td><td>0</td><td>0</td></tr>\n",
       "\t<tr><th scope=row>tV(AAC)L</th><td>0</td><td> 0</td><td>0</td><td>0</td><td>0</td></tr>\n",
       "\t<tr><th scope=row>tV(AAC)M1</th><td>0</td><td> 0</td><td>2</td><td>0</td><td>0</td></tr>\n",
       "\t<tr><th scope=row>tV(AAC)M2</th><td>0</td><td> 0</td><td>1</td><td>1</td><td>0</td></tr>\n",
       "\t<tr><th scope=row>tV(AAC)M3</th><td>0</td><td> 0</td><td>0</td><td>0</td><td>0</td></tr>\n",
       "\t<tr><th scope=row>tV(AAC)O</th><td>0</td><td> 0</td><td>0</td><td>1</td><td>0</td></tr>\n",
       "\t<tr><th scope=row>tV(CAC)D</th><td>0</td><td> 3</td><td>0</td><td>0</td><td>2</td></tr>\n",
       "\t<tr><th scope=row>tV(CAC)H</th><td>0</td><td> 0</td><td>0</td><td>0</td><td>0</td></tr>\n",
       "\t<tr><th scope=row>tV(UAC)B</th><td>0</td><td> 0</td><td>0</td><td>2</td><td>1</td></tr>\n",
       "\t<tr><th scope=row>tV(UAC)D</th><td>0</td><td> 0</td><td>0</td><td>2</td><td>1</td></tr>\n",
       "\t<tr><th scope=row>tV(UAC)Q</th><td>0</td><td> 0</td><td>0</td><td>0</td><td>0</td></tr>\n",
       "\t<tr><th scope=row>tW(CCA)G1</th><td>0</td><td> 0</td><td>0</td><td>0</td><td>0</td></tr>\n",
       "\t<tr><th scope=row>tW(CCA)G2</th><td>0</td><td> 0</td><td>1</td><td>0</td><td>0</td></tr>\n",
       "\t<tr><th scope=row>tW(CCA)J</th><td>0</td><td> 0</td><td>0</td><td>0</td><td>0</td></tr>\n",
       "\t<tr><th scope=row>tW(CCA)K</th><td>2</td><td> 0</td><td>0</td><td>0</td><td>0</td></tr>\n",
       "\t<tr><th scope=row>tW(CCA)M</th><td>1</td><td> 0</td><td>0</td><td>1</td><td>0</td></tr>\n",
       "\t<tr><th scope=row>tW(CCA)P</th><td>2</td><td> 3</td><td>1</td><td>1</td><td>1</td></tr>\n",
       "\t<tr><th scope=row>tW(UCA)Q</th><td>0</td><td> 0</td><td>0</td><td>0</td><td>0</td></tr>\n",
       "\t<tr><th scope=row>tX(XXX)D</th><td>0</td><td> 0</td><td>0</td><td>1</td><td>0</td></tr>\n",
       "\t<tr><th scope=row>tX(XXX)L</th><td>3</td><td>14</td><td>1</td><td>1</td><td>5</td></tr>\n",
       "\t<tr><th scope=row>tY(GUA)D</th><td>1</td><td> 1</td><td>0</td><td>2</td><td>0</td></tr>\n",
       "\t<tr><th scope=row>tY(GUA)F1</th><td>0</td><td> 0</td><td>0</td><td>0</td><td>0</td></tr>\n",
       "\t<tr><th scope=row>tY(GUA)F2</th><td>0</td><td> 0</td><td>0</td><td>0</td><td>0</td></tr>\n",
       "\t<tr><th scope=row>tY(GUA)J1</th><td>0</td><td> 0</td><td>0</td><td>0</td><td>0</td></tr>\n",
       "\t<tr><th scope=row>tY(GUA)J2</th><td>0</td><td> 0</td><td>0</td><td>0</td><td>0</td></tr>\n",
       "\t<tr><th scope=row>tY(GUA)M1</th><td>1</td><td> 0</td><td>1</td><td>0</td><td>0</td></tr>\n",
       "\t<tr><th scope=row>tY(GUA)M2</th><td>0</td><td> 0</td><td>0</td><td>0</td><td>0</td></tr>\n",
       "\t<tr><th scope=row>tY(GUA)O</th><td>1</td><td> 0</td><td>0</td><td>0</td><td>0</td></tr>\n",
       "\t<tr><th scope=row>tY(GUA)Q</th><td>0</td><td> 0</td><td>0</td><td>0</td><td>0</td></tr>\n",
       "</tbody>\n",
       "</table>\n"
      ],
      "text/latex": [
       "A data.frame: 7127 × 5\n",
       "\\begin{tabular}{r|lllll}\n",
       "  & DNMT3B\\_2 & EV\\_3 & DNMT3B\\_3 & DNMT3B\\_4 & EV\\_4\\\\\n",
       "  & <int> & <int> & <int> & <int> & <int>\\\\\n",
       "\\hline\n",
       "\tETS1-1 &   8 &  14 &   4 &   7 &   8\\\\\n",
       "\tETS1-2 &   0 &   0 &   0 &   0 &   0\\\\\n",
       "\tETS2-1 &   0 &   0 &   0 &   1 &   0\\\\\n",
       "\tETS2-2 &   0 &   0 &   0 &   0 &   0\\\\\n",
       "\tHRA1 &  19 &  71 &  24 &  14 &  30\\\\\n",
       "\tICR1 & 203 & 142 & 210 & 188 & 159\\\\\n",
       "\tIRT1 & 618 & 387 & 555 & 491 & 260\\\\\n",
       "\tITS1-1 &   7 &  17 &   4 &   6 &  15\\\\\n",
       "\tITS1-2 &   1 &   0 &   0 &   0 &   0\\\\\n",
       "\tITS2-1 &   4 &   9 &   2 &   5 &   2\\\\\n",
       "\tITS2-2 &   0 &   0 &   0 &   0 &   0\\\\\n",
       "\tLSR1 & 822 & 466 & 666 & 433 & 528\\\\\n",
       "\tNME1 & 207 & 193 & 243 & 176 & 222\\\\\n",
       "\tPWR1 &  40 &  28 &  41 &  34 &  25\\\\\n",
       "\tQ0010 &   0 &   0 &   0 &   0 &   0\\\\\n",
       "\tQ0017 &   0 &   0 &   0 &   0 &   0\\\\\n",
       "\tQ0020 &  27 &  31 &  43 &  87 &  17\\\\\n",
       "\tQ0032 &   0 &   0 &   0 &   0 &   0\\\\\n",
       "\tQ0045 &  71 &  45 &  63 &  38 &  39\\\\\n",
       "\tQ0050 &  81 &  54 &  82 &  54 &  51\\\\\n",
       "\tQ0055 &  56 &  38 &  57 &  37 &  43\\\\\n",
       "\tQ0060 &   2 &   1 &   1 &   1 &   0\\\\\n",
       "\tQ0065 &   1 &   2 &   2 &   0 &   1\\\\\n",
       "\tQ0070 &   0 &   0 &   0 &   0 &   0\\\\\n",
       "\tQ0075 &   1 &   1 &   1 &   1 &   1\\\\\n",
       "\tQ0080 &   0 &   0 &   0 &   0 &   0\\\\\n",
       "\tQ0085 &   8 &   2 &   8 &   6 &   2\\\\\n",
       "\tQ0092 &   0 &   0 &   0 &   0 &   0\\\\\n",
       "\tQ0105 &  15 &  11 &  10 &   2 &   7\\\\\n",
       "\tQ0110 &   0 &   0 &   0 &   1 &   0\\\\\n",
       "\t⋮ & ⋮ & ⋮ & ⋮ & ⋮ & ⋮\\\\\n",
       "\ttV(AAC)K1 & 0 &  0 & 0 & 0 & 0\\\\\n",
       "\ttV(AAC)K2 & 0 &  0 & 0 & 0 & 0\\\\\n",
       "\ttV(AAC)L & 0 &  0 & 0 & 0 & 0\\\\\n",
       "\ttV(AAC)M1 & 0 &  0 & 2 & 0 & 0\\\\\n",
       "\ttV(AAC)M2 & 0 &  0 & 1 & 1 & 0\\\\\n",
       "\ttV(AAC)M3 & 0 &  0 & 0 & 0 & 0\\\\\n",
       "\ttV(AAC)O & 0 &  0 & 0 & 1 & 0\\\\\n",
       "\ttV(CAC)D & 0 &  3 & 0 & 0 & 2\\\\\n",
       "\ttV(CAC)H & 0 &  0 & 0 & 0 & 0\\\\\n",
       "\ttV(UAC)B & 0 &  0 & 0 & 2 & 1\\\\\n",
       "\ttV(UAC)D & 0 &  0 & 0 & 2 & 1\\\\\n",
       "\ttV(UAC)Q & 0 &  0 & 0 & 0 & 0\\\\\n",
       "\ttW(CCA)G1 & 0 &  0 & 0 & 0 & 0\\\\\n",
       "\ttW(CCA)G2 & 0 &  0 & 1 & 0 & 0\\\\\n",
       "\ttW(CCA)J & 0 &  0 & 0 & 0 & 0\\\\\n",
       "\ttW(CCA)K & 2 &  0 & 0 & 0 & 0\\\\\n",
       "\ttW(CCA)M & 1 &  0 & 0 & 1 & 0\\\\\n",
       "\ttW(CCA)P & 2 &  3 & 1 & 1 & 1\\\\\n",
       "\ttW(UCA)Q & 0 &  0 & 0 & 0 & 0\\\\\n",
       "\ttX(XXX)D & 0 &  0 & 0 & 1 & 0\\\\\n",
       "\ttX(XXX)L & 3 & 14 & 1 & 1 & 5\\\\\n",
       "\ttY(GUA)D & 1 &  1 & 0 & 2 & 0\\\\\n",
       "\ttY(GUA)F1 & 0 &  0 & 0 & 0 & 0\\\\\n",
       "\ttY(GUA)F2 & 0 &  0 & 0 & 0 & 0\\\\\n",
       "\ttY(GUA)J1 & 0 &  0 & 0 & 0 & 0\\\\\n",
       "\ttY(GUA)J2 & 0 &  0 & 0 & 0 & 0\\\\\n",
       "\ttY(GUA)M1 & 1 &  0 & 1 & 0 & 0\\\\\n",
       "\ttY(GUA)M2 & 0 &  0 & 0 & 0 & 0\\\\\n",
       "\ttY(GUA)O & 1 &  0 & 0 & 0 & 0\\\\\n",
       "\ttY(GUA)Q & 0 &  0 & 0 & 0 & 0\\\\\n",
       "\\end{tabular}\n"
      ],
      "text/markdown": [
       "\n",
       "A data.frame: 7127 × 5\n",
       "\n",
       "| <!--/--> | DNMT3B_2 &lt;int&gt; | EV_3 &lt;int&gt; | DNMT3B_3 &lt;int&gt; | DNMT3B_4 &lt;int&gt; | EV_4 &lt;int&gt; |\n",
       "|---|---|---|---|---|---|\n",
       "| ETS1-1 |   8 |  14 |   4 |   7 |   8 |\n",
       "| ETS1-2 |   0 |   0 |   0 |   0 |   0 |\n",
       "| ETS2-1 |   0 |   0 |   0 |   1 |   0 |\n",
       "| ETS2-2 |   0 |   0 |   0 |   0 |   0 |\n",
       "| HRA1 |  19 |  71 |  24 |  14 |  30 |\n",
       "| ICR1 | 203 | 142 | 210 | 188 | 159 |\n",
       "| IRT1 | 618 | 387 | 555 | 491 | 260 |\n",
       "| ITS1-1 |   7 |  17 |   4 |   6 |  15 |\n",
       "| ITS1-2 |   1 |   0 |   0 |   0 |   0 |\n",
       "| ITS2-1 |   4 |   9 |   2 |   5 |   2 |\n",
       "| ITS2-2 |   0 |   0 |   0 |   0 |   0 |\n",
       "| LSR1 | 822 | 466 | 666 | 433 | 528 |\n",
       "| NME1 | 207 | 193 | 243 | 176 | 222 |\n",
       "| PWR1 |  40 |  28 |  41 |  34 |  25 |\n",
       "| Q0010 |   0 |   0 |   0 |   0 |   0 |\n",
       "| Q0017 |   0 |   0 |   0 |   0 |   0 |\n",
       "| Q0020 |  27 |  31 |  43 |  87 |  17 |\n",
       "| Q0032 |   0 |   0 |   0 |   0 |   0 |\n",
       "| Q0045 |  71 |  45 |  63 |  38 |  39 |\n",
       "| Q0050 |  81 |  54 |  82 |  54 |  51 |\n",
       "| Q0055 |  56 |  38 |  57 |  37 |  43 |\n",
       "| Q0060 |   2 |   1 |   1 |   1 |   0 |\n",
       "| Q0065 |   1 |   2 |   2 |   0 |   1 |\n",
       "| Q0070 |   0 |   0 |   0 |   0 |   0 |\n",
       "| Q0075 |   1 |   1 |   1 |   1 |   1 |\n",
       "| Q0080 |   0 |   0 |   0 |   0 |   0 |\n",
       "| Q0085 |   8 |   2 |   8 |   6 |   2 |\n",
       "| Q0092 |   0 |   0 |   0 |   0 |   0 |\n",
       "| Q0105 |  15 |  11 |  10 |   2 |   7 |\n",
       "| Q0110 |   0 |   0 |   0 |   1 |   0 |\n",
       "| ⋮ | ⋮ | ⋮ | ⋮ | ⋮ | ⋮ |\n",
       "| tV(AAC)K1 | 0 |  0 | 0 | 0 | 0 |\n",
       "| tV(AAC)K2 | 0 |  0 | 0 | 0 | 0 |\n",
       "| tV(AAC)L | 0 |  0 | 0 | 0 | 0 |\n",
       "| tV(AAC)M1 | 0 |  0 | 2 | 0 | 0 |\n",
       "| tV(AAC)M2 | 0 |  0 | 1 | 1 | 0 |\n",
       "| tV(AAC)M3 | 0 |  0 | 0 | 0 | 0 |\n",
       "| tV(AAC)O | 0 |  0 | 0 | 1 | 0 |\n",
       "| tV(CAC)D | 0 |  3 | 0 | 0 | 2 |\n",
       "| tV(CAC)H | 0 |  0 | 0 | 0 | 0 |\n",
       "| tV(UAC)B | 0 |  0 | 0 | 2 | 1 |\n",
       "| tV(UAC)D | 0 |  0 | 0 | 2 | 1 |\n",
       "| tV(UAC)Q | 0 |  0 | 0 | 0 | 0 |\n",
       "| tW(CCA)G1 | 0 |  0 | 0 | 0 | 0 |\n",
       "| tW(CCA)G2 | 0 |  0 | 1 | 0 | 0 |\n",
       "| tW(CCA)J | 0 |  0 | 0 | 0 | 0 |\n",
       "| tW(CCA)K | 2 |  0 | 0 | 0 | 0 |\n",
       "| tW(CCA)M | 1 |  0 | 0 | 1 | 0 |\n",
       "| tW(CCA)P | 2 |  3 | 1 | 1 | 1 |\n",
       "| tW(UCA)Q | 0 |  0 | 0 | 0 | 0 |\n",
       "| tX(XXX)D | 0 |  0 | 0 | 1 | 0 |\n",
       "| tX(XXX)L | 3 | 14 | 1 | 1 | 5 |\n",
       "| tY(GUA)D | 1 |  1 | 0 | 2 | 0 |\n",
       "| tY(GUA)F1 | 0 |  0 | 0 | 0 | 0 |\n",
       "| tY(GUA)F2 | 0 |  0 | 0 | 0 | 0 |\n",
       "| tY(GUA)J1 | 0 |  0 | 0 | 0 | 0 |\n",
       "| tY(GUA)J2 | 0 |  0 | 0 | 0 | 0 |\n",
       "| tY(GUA)M1 | 1 |  0 | 1 | 0 | 0 |\n",
       "| tY(GUA)M2 | 0 |  0 | 0 | 0 | 0 |\n",
       "| tY(GUA)O | 1 |  0 | 0 | 0 | 0 |\n",
       "| tY(GUA)Q | 0 |  0 | 0 | 0 | 0 |\n",
       "\n"
      ],
      "text/plain": [
       "          DNMT3B_2 EV_3 DNMT3B_3 DNMT3B_4 EV_4\n",
       "ETS1-1      8       14    4        7        8 \n",
       "ETS1-2      0        0    0        0        0 \n",
       "ETS2-1      0        0    0        1        0 \n",
       "ETS2-2      0        0    0        0        0 \n",
       "HRA1       19       71   24       14       30 \n",
       "ICR1      203      142  210      188      159 \n",
       "IRT1      618      387  555      491      260 \n",
       "ITS1-1      7       17    4        6       15 \n",
       "ITS1-2      1        0    0        0        0 \n",
       "ITS2-1      4        9    2        5        2 \n",
       "ITS2-2      0        0    0        0        0 \n",
       "LSR1      822      466  666      433      528 \n",
       "NME1      207      193  243      176      222 \n",
       "PWR1       40       28   41       34       25 \n",
       "Q0010       0        0    0        0        0 \n",
       "Q0017       0        0    0        0        0 \n",
       "Q0020      27       31   43       87       17 \n",
       "Q0032       0        0    0        0        0 \n",
       "Q0045      71       45   63       38       39 \n",
       "Q0050      81       54   82       54       51 \n",
       "Q0055      56       38   57       37       43 \n",
       "Q0060       2        1    1        1        0 \n",
       "Q0065       1        2    2        0        1 \n",
       "Q0070       0        0    0        0        0 \n",
       "Q0075       1        1    1        1        1 \n",
       "Q0080       0        0    0        0        0 \n",
       "Q0085       8        2    8        6        2 \n",
       "Q0092       0        0    0        0        0 \n",
       "Q0105      15       11   10        2        7 \n",
       "Q0110       0        0    0        1        0 \n",
       "⋮         ⋮        ⋮    ⋮        ⋮        ⋮   \n",
       "tV(AAC)K1 0         0   0        0        0   \n",
       "tV(AAC)K2 0         0   0        0        0   \n",
       "tV(AAC)L  0         0   0        0        0   \n",
       "tV(AAC)M1 0         0   2        0        0   \n",
       "tV(AAC)M2 0         0   1        1        0   \n",
       "tV(AAC)M3 0         0   0        0        0   \n",
       "tV(AAC)O  0         0   0        1        0   \n",
       "tV(CAC)D  0         3   0        0        2   \n",
       "tV(CAC)H  0         0   0        0        0   \n",
       "tV(UAC)B  0         0   0        2        1   \n",
       "tV(UAC)D  0         0   0        2        1   \n",
       "tV(UAC)Q  0         0   0        0        0   \n",
       "tW(CCA)G1 0         0   0        0        0   \n",
       "tW(CCA)G2 0         0   1        0        0   \n",
       "tW(CCA)J  0         0   0        0        0   \n",
       "tW(CCA)K  2         0   0        0        0   \n",
       "tW(CCA)M  1         0   0        1        0   \n",
       "tW(CCA)P  2         3   1        1        1   \n",
       "tW(UCA)Q  0         0   0        0        0   \n",
       "tX(XXX)D  0         0   0        1        0   \n",
       "tX(XXX)L  3        14   1        1        5   \n",
       "tY(GUA)D  1         1   0        2        0   \n",
       "tY(GUA)F1 0         0   0        0        0   \n",
       "tY(GUA)F2 0         0   0        0        0   \n",
       "tY(GUA)J1 0         0   0        0        0   \n",
       "tY(GUA)J2 0         0   0        0        0   \n",
       "tY(GUA)M1 1         0   1        0        0   \n",
       "tY(GUA)M2 0         0   0        0        0   \n",
       "tY(GUA)O  1         0   0        0        0   \n",
       "tY(GUA)Q  0         0   0        0        0   "
      ]
     },
     "metadata": {},
     "output_type": "display_data"
    }
   ],
   "source": [
    "#install.packages(\"BiocManager\")\n",
    "getwd()\n",
    "setwd(\"/root/yeast_data/analysis/htseq-count\")\n",
    "\n",
    "list.files()\n",
    "\n",
    "count_tab <- read.table(\"result.txt\",header=T)\n",
    "rownames(count_tab) <- count_tab$gene_id # count_tab[,1]\n",
    "# 去掉第一列\n",
    "count_tab <- count_tab[,-c(1)]\n",
    "count_tab\n",
    "#?read.table\n",
    "\n"
   ]
  },
  {
   "cell_type": "code",
   "execution_count": 7,
   "metadata": {
    "collapsed": true,
    "jupyter": {
     "outputs_hidden": true
    }
   },
   "outputs": [
    {
     "data": {
      "text/html": [
       "<table>\n",
       "<caption>A data.frame: 5 × 2</caption>\n",
       "<thead>\n",
       "\t<tr><th scope=col>sample_id</th><th scope=col>Condition</th></tr>\n",
       "\t<tr><th scope=col>&lt;fct&gt;</th><th scope=col>&lt;fct&gt;</th></tr>\n",
       "</thead>\n",
       "<tbody>\n",
       "\t<tr><td>EV_3    </td><td>EV    </td></tr>\n",
       "\t<tr><td>EV_4    </td><td>EV    </td></tr>\n",
       "\t<tr><td>DNMT3B_2</td><td>DNMT3B</td></tr>\n",
       "\t<tr><td>DNMT3B_3</td><td>DNMT3B</td></tr>\n",
       "\t<tr><td>DNMT3B_4</td><td>DNMT3B</td></tr>\n",
       "</tbody>\n",
       "</table>\n"
      ],
      "text/latex": [
       "A data.frame: 5 × 2\n",
       "\\begin{tabular}{ll}\n",
       " sample\\_id & Condition\\\\\n",
       " <fct> & <fct>\\\\\n",
       "\\hline\n",
       "\t EV\\_3     & EV    \\\\\n",
       "\t EV\\_4     & EV    \\\\\n",
       "\t DNMT3B\\_2 & DNMT3B\\\\\n",
       "\t DNMT3B\\_3 & DNMT3B\\\\\n",
       "\t DNMT3B\\_4 & DNMT3B\\\\\n",
       "\\end{tabular}\n"
      ],
      "text/markdown": [
       "\n",
       "A data.frame: 5 × 2\n",
       "\n",
       "| sample_id &lt;fct&gt; | Condition &lt;fct&gt; |\n",
       "|---|---|\n",
       "| EV_3     | EV     |\n",
       "| EV_4     | EV     |\n",
       "| DNMT3B_2 | DNMT3B |\n",
       "| DNMT3B_3 | DNMT3B |\n",
       "| DNMT3B_4 | DNMT3B |\n",
       "\n"
      ],
      "text/plain": [
       "  sample_id Condition\n",
       "1 EV_3      EV       \n",
       "2 EV_4      EV       \n",
       "3 DNMT3B_2  DNMT3B   \n",
       "4 DNMT3B_3  DNMT3B   \n",
       "5 DNMT3B_4  DNMT3B   "
      ]
     },
     "metadata": {},
     "output_type": "display_data"
    }
   ],
   "source": [
    "colData <- read.table(\"SraAccList.txt\",header=T)\n",
    "colData\n",
    "colData$Condition <- factor(colData$Condition,c(\"EV\",\"DNMT3B\"))"
   ]
  },
  {
   "cell_type": "markdown",
   "metadata": {
    "jupyter": {
     "source_hidden": true
    }
   },
   "source": [
    "### 差异表达基因\n",
    "1. log2FoldChange 差异倍数取log\n",
    "2. pvalue\n",
    "3. padj值越小，说明基因可能是差异表达"
   ]
  },
  {
   "cell_type": "code",
   "execution_count": 23,
   "metadata": {
    "collapsed": true,
    "jupyter": {
     "outputs_hidden": true
    }
   },
   "outputs": [
    {
     "name": "stderr",
     "output_type": "stream",
     "text": [
      "estimating size factors\n",
      "\n",
      "estimating dispersions\n",
      "\n",
      "gene-wise dispersion estimates\n",
      "\n",
      "mean-dispersion relationship\n",
      "\n",
      "final dispersion estimates\n",
      "\n",
      "fitting model and testing\n",
      "\n"
     ]
    },
    {
     "data": {
      "text/html": [
       "<style>\n",
       ".list-inline {list-style: none; margin:0; padding: 0}\n",
       ".list-inline>li {display: inline-block}\n",
       ".list-inline>li:not(:last-child)::after {content: \"\\00b7\"; padding: 0 .5ex}\n",
       "</style>\n",
       "<ol class=list-inline><li>'Intercept'</li><li>'Condition_DNMT3B_vs_EV'</li></ol>\n"
      ],
      "text/latex": [
       "\\begin{enumerate*}\n",
       "\\item 'Intercept'\n",
       "\\item 'Condition\\_DNMT3B\\_vs\\_EV'\n",
       "\\end{enumerate*}\n"
      ],
      "text/markdown": [
       "1. 'Intercept'\n",
       "2. 'Condition_DNMT3B_vs_EV'\n",
       "\n",
       "\n"
      ],
      "text/plain": [
       "[1] \"Intercept\"              \"Condition_DNMT3B_vs_EV\""
      ]
     },
     "metadata": {},
     "output_type": "display_data"
    },
    {
     "data": {
      "text/html": [
       "<table>\n",
       "<caption>A data.frame: 6 × 7</caption>\n",
       "<thead>\n",
       "\t<tr><th></th><th scope=col>gene_id</th><th scope=col>baseMean</th><th scope=col>log2FoldChange</th><th scope=col>lfcSE</th><th scope=col>stat</th><th scope=col>pvalue</th><th scope=col>padj</th></tr>\n",
       "\t<tr><th></th><th scope=col>&lt;chr&gt;</th><th scope=col>&lt;dbl&gt;</th><th scope=col>&lt;dbl&gt;</th><th scope=col>&lt;dbl&gt;</th><th scope=col>&lt;dbl&gt;</th><th scope=col>&lt;dbl&gt;</th><th scope=col>&lt;dbl&gt;</th></tr>\n",
       "</thead>\n",
       "<tbody>\n",
       "\t<tr><th scope=row>YMR169C</th><td>YMR169C</td><td> 3251.145</td><td>2.3685179</td><td>0.5413086</td><td>4.375541</td><td>1.211317e-05</td><td>0.009121221</td></tr>\n",
       "\t<tr><th scope=row>YLR081W</th><td>YLR081W</td><td>44131.958</td><td>1.2094218</td><td>0.3002452</td><td>4.028114</td><td>5.622610e-05</td><td>0.021169126</td></tr>\n",
       "\t<tr><th scope=row>YDR298C</th><td>YDR298C</td><td> 2571.866</td><td>1.0105048</td><td>0.2682180</td><td>3.767475</td><td>1.649069e-04</td><td>0.036441035</td></tr>\n",
       "\t<tr><th scope=row>YNL134C</th><td>YNL134C</td><td> 6771.448</td><td>1.2761405</td><td>0.3423809</td><td>3.727253</td><td>1.935779e-04</td><td>0.036441035</td></tr>\n",
       "\t<tr><th scope=row>YBL030C</th><td>YBL030C</td><td> 2963.170</td><td>0.7262273</td><td>0.2133547</td><td>3.403849</td><td>6.644351e-04</td><td>0.040328238</td></tr>\n",
       "\t<tr><th scope=row>YBL099W</th><td>YBL099W</td><td> 8633.862</td><td>0.9102597</td><td>0.2700512</td><td>3.370693</td><td>7.497946e-04</td><td>0.040328238</td></tr>\n",
       "</tbody>\n",
       "</table>\n"
      ],
      "text/latex": [
       "A data.frame: 6 × 7\n",
       "\\begin{tabular}{r|lllllll}\n",
       "  & gene\\_id & baseMean & log2FoldChange & lfcSE & stat & pvalue & padj\\\\\n",
       "  & <chr> & <dbl> & <dbl> & <dbl> & <dbl> & <dbl> & <dbl>\\\\\n",
       "\\hline\n",
       "\tYMR169C & YMR169C &  3251.145 & 2.3685179 & 0.5413086 & 4.375541 & 1.211317e-05 & 0.009121221\\\\\n",
       "\tYLR081W & YLR081W & 44131.958 & 1.2094218 & 0.3002452 & 4.028114 & 5.622610e-05 & 0.021169126\\\\\n",
       "\tYDR298C & YDR298C &  2571.866 & 1.0105048 & 0.2682180 & 3.767475 & 1.649069e-04 & 0.036441035\\\\\n",
       "\tYNL134C & YNL134C &  6771.448 & 1.2761405 & 0.3423809 & 3.727253 & 1.935779e-04 & 0.036441035\\\\\n",
       "\tYBL030C & YBL030C &  2963.170 & 0.7262273 & 0.2133547 & 3.403849 & 6.644351e-04 & 0.040328238\\\\\n",
       "\tYBL099W & YBL099W &  8633.862 & 0.9102597 & 0.2700512 & 3.370693 & 7.497946e-04 & 0.040328238\\\\\n",
       "\\end{tabular}\n"
      ],
      "text/markdown": [
       "\n",
       "A data.frame: 6 × 7\n",
       "\n",
       "| <!--/--> | gene_id &lt;chr&gt; | baseMean &lt;dbl&gt; | log2FoldChange &lt;dbl&gt; | lfcSE &lt;dbl&gt; | stat &lt;dbl&gt; | pvalue &lt;dbl&gt; | padj &lt;dbl&gt; |\n",
       "|---|---|---|---|---|---|---|---|\n",
       "| YMR169C | YMR169C |  3251.145 | 2.3685179 | 0.5413086 | 4.375541 | 1.211317e-05 | 0.009121221 |\n",
       "| YLR081W | YLR081W | 44131.958 | 1.2094218 | 0.3002452 | 4.028114 | 5.622610e-05 | 0.021169126 |\n",
       "| YDR298C | YDR298C |  2571.866 | 1.0105048 | 0.2682180 | 3.767475 | 1.649069e-04 | 0.036441035 |\n",
       "| YNL134C | YNL134C |  6771.448 | 1.2761405 | 0.3423809 | 3.727253 | 1.935779e-04 | 0.036441035 |\n",
       "| YBL030C | YBL030C |  2963.170 | 0.7262273 | 0.2133547 | 3.403849 | 6.644351e-04 | 0.040328238 |\n",
       "| YBL099W | YBL099W |  8633.862 | 0.9102597 | 0.2700512 | 3.370693 | 7.497946e-04 | 0.040328238 |\n",
       "\n"
      ],
      "text/plain": [
       "        gene_id baseMean  log2FoldChange lfcSE     stat     pvalue      \n",
       "YMR169C YMR169C  3251.145 2.3685179      0.5413086 4.375541 1.211317e-05\n",
       "YLR081W YLR081W 44131.958 1.2094218      0.3002452 4.028114 5.622610e-05\n",
       "YDR298C YDR298C  2571.866 1.0105048      0.2682180 3.767475 1.649069e-04\n",
       "YNL134C YNL134C  6771.448 1.2761405      0.3423809 3.727253 1.935779e-04\n",
       "YBL030C YBL030C  2963.170 0.7262273      0.2133547 3.403849 6.644351e-04\n",
       "YBL099W YBL099W  8633.862 0.9102597      0.2700512 3.370693 7.497946e-04\n",
       "        padj       \n",
       "YMR169C 0.009121221\n",
       "YLR081W 0.021169126\n",
       "YDR298C 0.036441035\n",
       "YNL134C 0.036441035\n",
       "YBL030C 0.040328238\n",
       "YBL099W 0.040328238"
      ]
     },
     "metadata": {},
     "output_type": "display_data"
    }
   ],
   "source": [
    "library(DESeq2)\n",
    "dds <- DESeqDataSetFromMatrix(countData = count_tab,\n",
    "                              colData = colData,\n",
    "                              design= ~  Condition)\n",
    "dds <- DESeq(dds)\n",
    "resultsNames(dds) # lists the coefficients\n",
    "res <- results(dds, name=\"Condition_DNMT3B_vs_EV\")\n",
    "res <- res[order(res$padj),]\n",
    "resDF <- as.data.frame(res)\n",
    "\n",
    "resDF$gene_id <- rownames(resDF) # 添加一列gene_id\n",
    "resDF <- resDF[,c(7,1,2,3,4,5,6)] # 将gene_id放到第一列\n",
    "write.table(resDF,file=\"yeast_DESeq2_DEG.txt\",sep=\"\\t\",quote=F,row.names=F)\n",
    "head(resDF)\n",
    "# or to shrink log fold changes association with condition:\n",
    "#res <- lfcShrink(dds, coef=\"condition_trt_vs_untrt\", type=\"apeglm\")"
   ]
  },
  {
   "cell_type": "markdown",
   "metadata": {},
   "source": [
    "### PCA"
   ]
  },
  {
   "cell_type": "code",
   "execution_count": 24,
   "metadata": {},
   "outputs": [
    {
     "data": {
      "text/plain": [
       "class: DESeqTransform \n",
       "dim: 7127 5 \n",
       "metadata(1): version\n",
       "assays(1): ''\n",
       "rownames(7127): ETS1-1 ETS1-2 ... tY(GUA)O tY(GUA)Q\n",
       "rowData names(22): baseMean baseVar ... maxCooks dispFit\n",
       "colnames(5): DNMT3B_2 EV_3 DNMT3B_3 DNMT3B_4 EV_4\n",
       "colData names(3): sample_id Condition sizeFactor"
      ]
     },
     "metadata": {},
     "output_type": "display_data"
    }
   ],
   "source": [
    "vsd <- vst(dds,blind=FALSE) # 数据均一化\n",
    "vsd"
   ]
  },
  {
   "cell_type": "code",
   "execution_count": 25,
   "metadata": {
    "collapsed": true,
    "jupyter": {
     "outputs_hidden": true
    }
   },
   "outputs": [
    {
     "data": {
      "image/png": "[encoded data removed]",
      "text/plain": [
       "plot without title"
      ]
     },
     "metadata": {
      "image/png": {
       "height": 420,
       "width": 420
      }
     },
     "output_type": "display_data"
    }
   ],
   "source": [
    "library('ggplot2')\n",
    "pcaData <- plotPCA(vsd, intgroup=c(\"Condition\"), returnData=TRUE)\n",
    "percentVar <- round(100 * attr(pcaData, \"percentVar\"))\n",
    "plot_fig <- ggplot(pcaData, aes(PC1, PC2, color=Condition)) +\n",
    "  geom_point(size=3) +\n",
    "  xlab(paste0(\"PC1: \",percentVar[1],\"% variance\")) +\n",
    "  ylab(paste0(\"PC2: \",percentVar[2],\"% variance\")) + \n",
    "  coord_fixed()\n",
    "#ggsave(plot_fig,filename = \"yeast_DESeq2_PCA.pdf\")\n",
    "plot_fig"
   ]
  },
  {
   "cell_type": "code",
   "execution_count": 27,
   "metadata": {
    "collapsed": true,
    "jupyter": {
     "outputs_hidden": true
    }
   },
   "outputs": [
    {
     "data": {
      "image/png": "[encoded data removed]",
      "text/plain": [
       "Plot with title “”"
      ]
     },
     "metadata": {
      "image/png": {
       "height": 420,
       "width": 420
      }
     },
     "output_type": "display_data"
    }
   ],
   "source": [
    "#pdf(\"yesat_DESeq2_MAplot.pdf\")\n",
    "plotMA(res, ylim=c(-2,2))\n",
    "#dev.off()"
   ]
  },
  {
   "cell_type": "code",
   "execution_count": null,
   "metadata": {},
   "outputs": [],
   "source": []
  },
  {
   "cell_type": "code",
   "execution_count": null,
   "metadata": {},
   "outputs": [],
   "source": []
  }
 ],
 "metadata": {
  "kernelspec": {
   "display_name": "R",
   "language": "R",
   "name": "ir"
  },
  "language_info": {
   "codemirror_mode": "r",
   "file_extension": ".r",
   "mimetype": "text/x-r-source",
   "name": "R",
   "pygments_lexer": "r",
   "version": "3.6.3"
  }
 },
 "nbformat": 4,
 "nbformat_minor": 4
}
