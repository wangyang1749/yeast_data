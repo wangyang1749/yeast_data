{
 "cells": [
  {
   "cell_type": "code",
   "execution_count": null,
   "metadata": {},
   "outputs": [],
   "source": [
    "## ~/R/x86_64-pc-linux-gnu-library/4.0"
   ]
  },
  {
   "cell_type": "code",
   "execution_count": null,
   "metadata": {},
   "outputs": [],
   "source": [
    "getwd()\n",
    "setwd(\"/root/yeast_data/geo/data\")\n",
    "library(GEOquery)\n",
    "#getGEOSuppFiles(GEO=\"GSE3325\",baseDir=getwd())"
   ]
  },
  {
   "cell_type": "code",
   "execution_count": 138,
   "metadata": {},
   "outputs": [
    {
     "data": {
      "text/html": [],
      "text/latex": [],
      "text/markdown": [],
      "text/plain": [
       "character(0)"
      ]
     },
     "metadata": {},
     "output_type": "display_data"
    }
   ],
   "source": [
    "cels <- list.files(\"./GSE3325\", pattern=\"[gz]\")\n",
    "cels\n",
    "# sapply(paste(\"./GSE3325\",cels,sep=\"/\"),gunzip)\n"
   ]
  },
  {
   "cell_type": "code",
   "execution_count": 147,
   "metadata": {},
   "outputs": [],
   "source": [
    "cel_path <- paste(getwd(),\"GSE3325\",sep=\"/\")\n",
    "library(affy)\n",
    "raw_data <- ReadAffy(celfile.path=cel_path)"
   ]
  },
  {
   "cell_type": "code",
   "execution_count": 154,
   "metadata": {},
   "outputs": [
    {
     "data": {
      "text/html": [
       "'AffyBatch'"
      ],
      "text/latex": [
       "'AffyBatch'"
      ],
      "text/markdown": [
       "'AffyBatch'"
      ],
      "text/plain": [
       "[1] \"AffyBatch\"\n",
       "attr(,\"package\")\n",
       "[1] \"affy\""
      ]
     },
     "metadata": {},
     "output_type": "display_data"
    }
   ],
   "source": [
    "class(raw_data)\n",
    "save(raw_data,file=\"GSE3325_raw_data.rda\")"
   ]
  },
  {
   "cell_type": "code",
   "execution_count": null,
   "metadata": {},
   "outputs": [],
   "source": [
    "load"
   ]
  }
 ],
 "metadata": {
  "kernelspec": {
   "display_name": "Python 3",
   "language": "python",
   "name": "python3"
  },
  "language_info": {
   "codemirror_mode": {
    "name": "ipython",
    "version": 3
   },
   "file_extension": ".py",
   "mimetype": "text/x-python",
   "name": "python",
   "nbconvert_exporter": "python",
   "pygments_lexer": "ipython3",
   "version": "3.8.5"
  }
 },
 "nbformat": 4,
 "nbformat_minor": 4
}
