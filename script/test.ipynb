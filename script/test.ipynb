{
 "cells": [
  {
   "cell_type": "code",
   "execution_count": 124,
   "metadata": {},
   "outputs": [
    {
     "data": {
      "text/html": [
       "'/root/yeast_data/geo/data'"
      ],
      "text/latex": [
       "'/root/yeast\\_data/geo/data'"
      ],
      "text/markdown": [
       "'/root/yeast_data/geo/data'"
      ],
      "text/plain": [
       "[1] \"/root/yeast_data/geo/data\""
      ]
     },
     "metadata": {},
     "output_type": "display_data"
    }
   ],
   "source": [
    "getwd()\n",
    "setwd(\"/root/yeast_data/geo/data\")\n",
    "library(GEOquery)\n",
    "#getGEOSuppFiles(GEO=\"GSE3325\",baseDir=getwd())"
   ]
  },
  {
   "cell_type": "code",
   "execution_count": 138,
   "metadata": {},
   "outputs": [
    {
     "data": {
      "text/html": [],
      "text/latex": [],
      "text/markdown": [],
      "text/plain": [
       "character(0)"
      ]
     },
     "metadata": {},
     "output_type": "display_data"
    }
   ],
   "source": [
    "cels <- list.files(\"./GSE3325\", pattern=\"[gz]\")\n",
    "cels\n",
    "# sapply(paste(\"./GSE3325\",cels,sep=\"/\"),gunzip)\n"
   ]
  },
  {
   "cell_type": "code",
   "execution_count": 147,
   "metadata": {},
   "outputs": [],
   "source": [
    "cel_path <- paste(getwd(),\"GSE3325\",sep=\"/\")\n",
    "library(affy)\n",
    "raw_data <- ReadAffy(celfile.path=cel_path)"
   ]
  },
  {
   "cell_type": "code",
   "execution_count": 154,
   "metadata": {},
   "outputs": [
    {
     "data": {
      "text/html": [
       "'AffyBatch'"
      ],
      "text/latex": [
       "'AffyBatch'"
      ],
      "text/markdown": [
       "'AffyBatch'"
      ],
      "text/plain": [
       "[1] \"AffyBatch\"\n",
       "attr(,\"package\")\n",
       "[1] \"affy\""
      ]
     },
     "metadata": {},
     "output_type": "display_data"
    }
   ],
   "source": [
    "class(raw_data)\n",
    "save(raw_data,file=\"GSE3325_raw_data.rda\")"
   ]
  },
  {
   "cell_type": "code",
   "execution_count": null,
   "metadata": {},
   "outputs": [],
   "source": [
    "load"
   ]
  }
 ],
 "metadata": {
  "kernelspec": {
   "display_name": "R",
   "language": "R",
   "name": "ir"
  },
  "language_info": {
   "codemirror_mode": "r",
   "file_extension": ".r",
   "mimetype": "text/x-r-source",
   "name": "R",
   "pygments_lexer": "r",
   "version": "3.4.4"
  }
 },
 "nbformat": 4,
 "nbformat_minor": 4
}
